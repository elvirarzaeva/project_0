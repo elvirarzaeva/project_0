{
 "cells": [
  {
   "cell_type": "markdown",
   "metadata": {},
   "source": [
    "Игра Угадай число"
   ]
  },
  {
   "cell_type": "code",
   "execution_count": 3,
   "metadata": {},
   "outputs": [],
   "source": [
    "from game2 import score_game\n",
    "from game2 import random_predict"
   ]
  },
  {
   "cell_type": "markdown",
   "metadata": {},
   "source": [
    "Угадываем рандомно"
   ]
  },
  {
   "cell_type": "code",
   "execution_count": 4,
   "metadata": {},
   "outputs": [
    {
     "name": "stdout",
     "output_type": "stream",
     "text": [
      "Ваш алгоритм угадывает число в среднем за: 101 попыток\n"
     ]
    },
    {
     "data": {
      "text/plain": [
       "101"
      ]
     },
     "execution_count": 4,
     "metadata": {},
     "output_type": "execute_result"
    }
   ],
   "source": [
    "score_game(random_predict)"
   ]
  },
  {
   "cell_type": "code",
   "execution_count": 1,
   "metadata": {},
   "outputs": [
    {
     "name": "stdout",
     "output_type": "stream",
     "text": [
      "1\n"
     ]
    },
    {
     "data": {
      "text/plain": [
       "18"
      ]
     },
     "execution_count": 1,
     "metadata": {},
     "output_type": "execute_result"
    }
   ],
   "source": [
    "import numpy as np\n",
    "def random_predict(number: int=1) -> int:\n",
    "    print(number)\n",
    "    \"\"\"Рандомно угадываем число\n",
    "    Args:\n",
    "        number(int, optional): Загаданное числою Defaults to 1.\n",
    "    Returns:\n",
    "        int: Число попыток\n",
    "    \"\"\"\n",
    "    count = 0\n",
    "    while True:\n",
    "        count += 1\n",
    "        predict_number = np.random.randint(1, 101) #предполагаемое число \n",
    "        \n",
    "        if predict_number > number:\n",
    "            predict_number = (100 - predict_number)//2\n",
    "        elif predict_number < number:\n",
    "            predict_number = predict_number//2\n",
    "        elif number == predict_number:\n",
    "            break #выход из цикла, если угадали\n",
    "    return(count)\n",
    "random_predict(1)"
   ]
  },
  {
   "cell_type": "markdown",
   "metadata": {},
   "source": [
    "Устанавливаем любое случайное число, а потом уменьшаем или увеличиваем его в зависимости от того, больше оно или меньше нужного."
   ]
  },
  {
   "cell_type": "code",
   "execution_count": 2,
   "metadata": {},
   "outputs": [
    {
     "data": {
      "text/plain": [
       "35"
      ]
     },
     "execution_count": 2,
     "metadata": {},
     "output_type": "execute_result"
    }
   ],
   "source": [
    "def game_core2(number: int = 1) -> int:\n",
    "    \"\"\"Устанавливаем рандомное число, потом уменьшаем его или увеличиваем в зависимости от того больше оно или меньше нужного.\n",
    "       Функция принимает загаданное число  и возвращает число попыток\n",
    "\n",
    "    Args:\n",
    "        number (int, optional): Загаданное число. Defaults to 1.\n",
    "\n",
    "    Returns:\n",
    "        int: Число попыток\n",
    "    \"\"\"\n",
    "    count = 0\n",
    "    predict = np.random.randint(1, 101)\n",
    "    \n",
    "    while number != predict:\n",
    "        count += 1\n",
    "        if number > predict:\n",
    "            predict += 1\n",
    "        elif number < predict:\n",
    "            predict -= 1\n",
    "    return count\n",
    "game_core2(20)"
   ]
  },
  {
   "cell_type": "markdown",
   "metadata": {},
   "source": [
    "Компьютер угадает число меньше чем за 20 попыток"
   ]
  },
  {
   "cell_type": "code",
   "execution_count": 14,
   "metadata": {},
   "outputs": [
    {
     "name": "stdout",
     "output_type": "stream",
     "text": [
      "Ваш алгоритм угадывает число в среднем за 6 попыток\n"
     ]
    },
    {
     "data": {
      "text/plain": [
       "6"
      ]
     },
     "execution_count": 14,
     "metadata": {},
     "output_type": "execute_result"
    }
   ],
   "source": [
    "import random\n",
    "import numpy as np\n",
    "def random_predict(number:int = np.random.randint(1, 101)) -> int:\n",
    "    \"\"\"Рандомно угадываем число \n",
    "\n",
    "    Args:\n",
    "        number (int, optional): Загаданное число Диапазон от 1 до 100. Defaults to np.random.randint(1, 101).\n",
    "\n",
    "    Returns:\n",
    "        int: Количество попыток\n",
    "    \"\"\"\n",
    "    count = 0\n",
    "    lst_num = list(range(1, 101))\n",
    "    while True:\n",
    "        count += 1\n",
    "        predict_number = int(np.mean(lst_num))\n",
    "        if number == predict_number:\n",
    "            break\n",
    "        elif predict_number > number:\n",
    "            lst_num = list(range(lst_num[0], predict_number+2))\n",
    "        else: \n",
    "            lst_num = list(range(predict_number, lst_num[-1]+2))\n",
    "    return count\n",
    "\n",
    "def score_game(random_predict) -> int:\n",
    "    \"\"\"За какое количество попыток в среднем из 1000 подходов угадывает наш алгоритм\n",
    "\n",
    "    Args:\n",
    "        random_predict (_type_): функция угадывания\n",
    "\n",
    "    Returns:\n",
    "        int: среднее значение количества попыток\n",
    "    \"\"\"\n",
    "    \n",
    "    count_ls = [] #список для сохранения количества попыток\n",
    "    np.random.seed(1) #фиксируем сид для воспроизводимости \n",
    "    random_array = np.random.randint(1, 101, size=(20)) #загадали список чисел\n",
    "    for number in random_array:\n",
    "        count_ls.append(random_predict(number))\n",
    "    score = int(np.mean(count_ls)) #находим среднее количество попыток\n",
    "    print(f'Ваш алгоритм угадывает число в среднем за {score} попыток')\n",
    "    return score\n",
    "score_game(random_predict)\n",
    "                                       "
   ]
  }
 ],
 "metadata": {
  "kernelspec": {
   "display_name": "Python 3.11.0 ('.venv': venv)",
   "language": "python",
   "name": "python3"
  },
  "language_info": {
   "codemirror_mode": {
    "name": "ipython",
    "version": 3
   },
   "file_extension": ".py",
   "mimetype": "text/x-python",
   "name": "python",
   "nbconvert_exporter": "python",
   "pygments_lexer": "ipython3",
   "version": "3.11.0"
  },
  "orig_nbformat": 4,
  "vscode": {
   "interpreter": {
    "hash": "e59d777a8cd7976a831d356927bd1d45d8665eae192a93b8692c682d653e552a"
   }
  }
 },
 "nbformat": 4,
 "nbformat_minor": 2
}
