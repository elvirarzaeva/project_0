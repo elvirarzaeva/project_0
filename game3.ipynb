{
 "cells": [
  {
   "cell_type": "code",
   "execution_count": null,
   "metadata": {},
   "outputs": [],
   "source": [
    "from game2 import score_game"
   ]
  }
 ],
 "metadata": {
  "kernelspec": {
   "display_name": "Python 3.11.0 ('.venv': venv)",
   "language": "python",
   "name": "python3"
  },
  "language_info": {
   "name": "python",
   "version": "3.11.0"
  },
  "orig_nbformat": 4,
  "vscode": {
   "interpreter": {
    "hash": "e59d777a8cd7976a831d356927bd1d45d8665eae192a93b8692c682d653e552a"
   }
  }
 },
 "nbformat": 4,
 "nbformat_minor": 2
}
